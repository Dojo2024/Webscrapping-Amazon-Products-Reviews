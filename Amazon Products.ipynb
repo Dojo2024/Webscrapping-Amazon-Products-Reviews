{
 "cells": [
  {
   "cell_type": "code",
   "execution_count": 1,
   "id": "1a774b07-38ea-4065-ab3f-50d1d5d2514d",
   "metadata": {},
   "outputs": [],
   "source": [
    "#Scrape Products From Amazon"
   ]
  },
  {
   "cell_type": "code",
   "execution_count": 2,
   "id": "9a85409b-0f3a-456f-9ad5-c81dcff03e3d",
   "metadata": {},
   "outputs": [],
   "source": [
    "import pandas as pd \n",
    "from selenium import webdriver\n",
    "from bs4 import BeautifulSoup"
   ]
  },
  {
   "cell_type": "code",
   "execution_count": 3,
   "id": "6887a173-3999-4060-8b15-254ee34ce4b6",
   "metadata": {},
   "outputs": [],
   "source": [
    "driver = webdriver.Chrome()"
   ]
  },
  {
   "cell_type": "code",
   "execution_count": 4,
   "id": "47e65ed5-eaf9-4da3-8782-8a0ef42cbaee",
   "metadata": {},
   "outputs": [],
   "source": [
    "driver.get('https://www.amazon.in/s?k=mobiles&crid=2944PM084A0K4&sprefix=mobiles%2Caps%2C271&ref=nb_sb_noss_1')"
   ]
  },
  {
   "cell_type": "code",
   "execution_count": 5,
   "id": "2946ff6f-41e4-47c2-b08b-2cb1c7451c12",
   "metadata": {},
   "outputs": [],
   "source": [
    "html_data = BeautifulSoup(driver.page_source, 'html.parser')"
   ]
  },
  {
   "cell_type": "code",
   "execution_count": 6,
   "id": "62c847c7-6081-4b71-b02f-f69b79c5dad6",
   "metadata": {},
   "outputs": [],
   "source": [
    "No_of_pages = int(html_data.find('span',{'class':'s-pagination-item s-pagination-disabled'}).text)"
   ]
  },
  {
   "cell_type": "code",
   "execution_count": 7,
   "id": "21b37769-20c3-4da0-b4d0-684ab237419d",
   "metadata": {},
   "outputs": [
    {
     "data": {
      "text/plain": [
       "20"
      ]
     },
     "execution_count": 7,
     "metadata": {},
     "output_type": "execute_result"
    }
   ],
   "source": [
    "No_of_pages"
   ]
  },
  {
   "cell_type": "code",
   "execution_count": 8,
   "id": "5d0773b3-7e52-4a43-8112-80c6b0030f56",
   "metadata": {},
   "outputs": [],
   "source": [
    "products = html_data.find_all('div',{'data-component-type':'s-search-result'})"
   ]
  },
  {
   "cell_type": "code",
   "execution_count": 9,
   "id": "20005b24-dc66-43f0-add1-4e5dac0e6c0e",
   "metadata": {},
   "outputs": [],
   "source": [
    "import time"
   ]
  },
  {
   "cell_type": "code",
   "execution_count": 27,
   "id": "47cedb81-74b2-4770-882b-cfc388951458",
   "metadata": {},
   "outputs": [
    {
     "name": "stderr",
     "output_type": "stream",
     "text": [
      "100%|██████████| 20/20 [01:52<00:00,  5.63s/it]\n"
     ]
    }
   ],
   "source": [
    "from tqdm import tqdm  # Ensure tqdm is imported\n",
    "\n",
    "titles = []\n",
    "images = []\n",
    "ratings = []\n",
    "prices = []\n",
    "for i in tqdm(range(No_of_pages)):\n",
    "    url = 'https://www.amazon.in/s?k=laptops&crid=2KEFMO61KR1T7&sprefix=laptop%2Caps%2C232&ref=nb_sb_noss_2&page='+str(i+1)\n",
    "    driver.get(url)\n",
    "    time.sleep(3)\n",
    "    html_data = BeautifulSoup(driver.page_source, 'html.parser')\n",
    "    products = html_data.find_all('div',{'data-component-type':'s-search-result'})\n",
    "    for product in products:\n",
    "        title = product.find('span',{'class':'a-size-medium a-color-base a-text-normal'}).text\n",
    "        if title == None:\n",
    "            break\n",
    "        titles.append(title)\n",
    "        img = product.find('img')['src']\n",
    "        images.append(img)\n",
    "        rating = product.find('span',{'class':'a-icon-alt'})\n",
    "        if rating  == None:\n",
    "            rating = 'No Rating'\n",
    "        else:\n",
    "            rating = product.find('span',{'class':'a-icon-alt'}).text\n",
    "        ratings.append(rating)\n",
    "        \n",
    "        price = product.find('span',{'class':'a-price-whole'})\n",
    "        if price == None:\n",
    "            price = 'Not Available'\n",
    "        else:\n",
    "            prices.append('₹' + price.text)"
   ]
  },
  {
   "cell_type": "code",
   "execution_count": 28,
   "id": "2ef66ee3-a388-4c12-a7c5-d139128dfbe2",
   "metadata": {},
   "outputs": [
    {
     "data": {
      "text/plain": [
       "426"
      ]
     },
     "execution_count": 28,
     "metadata": {},
     "output_type": "execute_result"
    }
   ],
   "source": [
    "len(titles)"
   ]
  },
  {
   "cell_type": "code",
   "execution_count": 29,
   "id": "2de05a1b-f126-4b2c-8186-998f9ae959fc",
   "metadata": {},
   "outputs": [],
   "source": [
    "min_length = min(len(titles), len(images), len(ratings), len(prices))\n",
    "titles = titles[:min_length]\n",
    "images = images[:min_length]\n",
    "ratings = ratings[:min_length]\n",
    "prices = prices[:min_length]\n",
    "\n",
    "data = pd.DataFrame({'titles': titles, 'images': images, 'ratings': ratings, 'prices': prices})\n"
   ]
  },
  {
   "cell_type": "code",
   "execution_count": 35,
   "id": "52d6650a",
   "metadata": {},
   "outputs": [
    {
     "data": {
      "text/html": [
       "<div>\n",
       "<style scoped>\n",
       "    .dataframe tbody tr th:only-of-type {\n",
       "        vertical-align: middle;\n",
       "    }\n",
       "\n",
       "    .dataframe tbody tr th {\n",
       "        vertical-align: top;\n",
       "    }\n",
       "\n",
       "    .dataframe thead th {\n",
       "        text-align: right;\n",
       "    }\n",
       "</style>\n",
       "<table border=\"1\" class=\"dataframe\">\n",
       "  <thead>\n",
       "    <tr style=\"text-align: right;\">\n",
       "      <th></th>\n",
       "      <th>titles</th>\n",
       "      <th>images</th>\n",
       "      <th>ratings</th>\n",
       "      <th>prices</th>\n",
       "    </tr>\n",
       "  </thead>\n",
       "  <tbody>\n",
       "    <tr>\n",
       "      <th>0</th>\n",
       "      <td>Dell 15 Thin &amp; Light Laptop, Intel Core i5-123...</td>\n",
       "      <td>https://m.media-amazon.com/images/I/81T5jRKDkv...</td>\n",
       "      <td>3.6 out of 5 stars</td>\n",
       "      <td>₹52,990</td>\n",
       "    </tr>\n",
       "    <tr>\n",
       "      <th>1</th>\n",
       "      <td>Lenovo IdeaPad Pro 5 Intel Evo Core Ultra 9 18...</td>\n",
       "      <td>https://m.media-amazon.com/images/I/618ac7UaMr...</td>\n",
       "      <td>4.5 out of 5 stars</td>\n",
       "      <td>₹1,09,990</td>\n",
       "    </tr>\n",
       "    <tr>\n",
       "      <th>2</th>\n",
       "      <td>(Refurbished) Lenovo ThinkPad 6th Gen Intel Co...</td>\n",
       "      <td>https://m.media-amazon.com/images/I/61vGumezio...</td>\n",
       "      <td>3.3 out of 5 stars</td>\n",
       "      <td>₹15,430</td>\n",
       "    </tr>\n",
       "    <tr>\n",
       "      <th>3</th>\n",
       "      <td>Acer Aspire Lite 12th Gen Intel Core i3-1215U ...</td>\n",
       "      <td>https://m.media-amazon.com/images/I/71czGb00k5...</td>\n",
       "      <td>4.0 out of 5 stars</td>\n",
       "      <td>₹29,990</td>\n",
       "    </tr>\n",
       "    <tr>\n",
       "      <th>4</th>\n",
       "      <td>(Refurbished) Lenovo ThinkPad 5th Gen Intel Co...</td>\n",
       "      <td>https://m.media-amazon.com/images/I/617Ykb5YvL...</td>\n",
       "      <td>3.7 out of 5 stars</td>\n",
       "      <td>₹12,980</td>\n",
       "    </tr>\n",
       "    <tr>\n",
       "      <th>...</th>\n",
       "      <td>...</td>\n",
       "      <td>...</td>\n",
       "      <td>...</td>\n",
       "      <td>...</td>\n",
       "    </tr>\n",
       "    <tr>\n",
       "      <th>420</th>\n",
       "      <td>HP Laptop 15, Intel® Core i5-1334U,15.6-inch(3...</td>\n",
       "      <td>https://m.media-amazon.com/images/I/51GMd4x98Q...</td>\n",
       "      <td>3.9 out of 5 stars</td>\n",
       "      <td>₹1,04,990</td>\n",
       "    </tr>\n",
       "    <tr>\n",
       "      <th>421</th>\n",
       "      <td>ASUS ROG Zephyrus G14, 14-inch (35.56 cms) WQH...</td>\n",
       "      <td>https://m.media-amazon.com/images/I/81Nwu5Hp0j...</td>\n",
       "      <td>4.0 out of 5 stars</td>\n",
       "      <td>₹72,990</td>\n",
       "    </tr>\n",
       "    <tr>\n",
       "      <th>422</th>\n",
       "      <td>(Renewed) Dell M6800 Precision Hybrid 17 Inche...</td>\n",
       "      <td>https://m.media-amazon.com/images/I/61BVsCGR9+...</td>\n",
       "      <td>No Rating</td>\n",
       "      <td>₹72,990</td>\n",
       "    </tr>\n",
       "    <tr>\n",
       "      <th>423</th>\n",
       "      <td>(Renewed) Dell M6800 Precision 17 Inches Scree...</td>\n",
       "      <td>https://m.media-amazon.com/images/I/51k7VNMXMy...</td>\n",
       "      <td>No Rating</td>\n",
       "      <td>₹1,09,990</td>\n",
       "    </tr>\n",
       "    <tr>\n",
       "      <th>424</th>\n",
       "      <td>Lenovo Thinkpad P14s 13th Gen Intel Core i7 14...</td>\n",
       "      <td>https://m.media-amazon.com/images/I/31ozxddhwh...</td>\n",
       "      <td>4.0 out of 5 stars</td>\n",
       "      <td>₹35,980</td>\n",
       "    </tr>\n",
       "  </tbody>\n",
       "</table>\n",
       "<p>425 rows × 4 columns</p>\n",
       "</div>"
      ],
      "text/plain": [
       "                                                titles  \\\n",
       "0    Dell 15 Thin & Light Laptop, Intel Core i5-123...   \n",
       "1    Lenovo IdeaPad Pro 5 Intel Evo Core Ultra 9 18...   \n",
       "2    (Refurbished) Lenovo ThinkPad 6th Gen Intel Co...   \n",
       "3    Acer Aspire Lite 12th Gen Intel Core i3-1215U ...   \n",
       "4    (Refurbished) Lenovo ThinkPad 5th Gen Intel Co...   \n",
       "..                                                 ...   \n",
       "420  HP Laptop 15, Intel® Core i5-1334U,15.6-inch(3...   \n",
       "421  ASUS ROG Zephyrus G14, 14-inch (35.56 cms) WQH...   \n",
       "422  (Renewed) Dell M6800 Precision Hybrid 17 Inche...   \n",
       "423  (Renewed) Dell M6800 Precision 17 Inches Scree...   \n",
       "424  Lenovo Thinkpad P14s 13th Gen Intel Core i7 14...   \n",
       "\n",
       "                                                images             ratings  \\\n",
       "0    https://m.media-amazon.com/images/I/81T5jRKDkv...  3.6 out of 5 stars   \n",
       "1    https://m.media-amazon.com/images/I/618ac7UaMr...  4.5 out of 5 stars   \n",
       "2    https://m.media-amazon.com/images/I/61vGumezio...  3.3 out of 5 stars   \n",
       "3    https://m.media-amazon.com/images/I/71czGb00k5...  4.0 out of 5 stars   \n",
       "4    https://m.media-amazon.com/images/I/617Ykb5YvL...  3.7 out of 5 stars   \n",
       "..                                                 ...                 ...   \n",
       "420  https://m.media-amazon.com/images/I/51GMd4x98Q...  3.9 out of 5 stars   \n",
       "421  https://m.media-amazon.com/images/I/81Nwu5Hp0j...  4.0 out of 5 stars   \n",
       "422  https://m.media-amazon.com/images/I/61BVsCGR9+...           No Rating   \n",
       "423  https://m.media-amazon.com/images/I/51k7VNMXMy...           No Rating   \n",
       "424  https://m.media-amazon.com/images/I/31ozxddhwh...  4.0 out of 5 stars   \n",
       "\n",
       "        prices  \n",
       "0      ₹52,990  \n",
       "1    ₹1,09,990  \n",
       "2      ₹15,430  \n",
       "3      ₹29,990  \n",
       "4      ₹12,980  \n",
       "..         ...  \n",
       "420  ₹1,04,990  \n",
       "421    ₹72,990  \n",
       "422    ₹72,990  \n",
       "423  ₹1,09,990  \n",
       "424    ₹35,980  \n",
       "\n",
       "[425 rows x 4 columns]"
      ]
     },
     "execution_count": 35,
     "metadata": {},
     "output_type": "execute_result"
    }
   ],
   "source": [
    "data"
   ]
  },
  {
   "cell_type": "code",
   "execution_count": 31,
   "id": "861f97d9-3ee7-47c6-a7e9-076ce10c0309",
   "metadata": {},
   "outputs": [],
   "source": [
    "data.to_csv('Laptop Products.csv')"
   ]
  },
  {
   "cell_type": "code",
   "execution_count": null,
   "id": "deef68aa-7c70-4ae7-8604-d19a0c6b9f2f",
   "metadata": {},
   "outputs": [],
   "source": []
  }
 ],
 "metadata": {
  "kernelspec": {
   "display_name": "Python 3",
   "language": "python",
   "name": "python3"
  },
  "language_info": {
   "codemirror_mode": {
    "name": "ipython",
    "version": 3
   },
   "file_extension": ".py",
   "mimetype": "text/x-python",
   "name": "python",
   "nbconvert_exporter": "python",
   "pygments_lexer": "ipython3",
   "version": "3.12.5"
  }
 },
 "nbformat": 4,
 "nbformat_minor": 5
}
