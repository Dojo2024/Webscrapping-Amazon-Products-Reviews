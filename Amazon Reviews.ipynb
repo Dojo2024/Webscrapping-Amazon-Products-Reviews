{
 "cells": [
  {
   "cell_type": "code",
   "execution_count": 1,
   "id": "4b098f8b-6a67-4513-82e3-440f77a1dadd",
   "metadata": {},
   "outputs": [],
   "source": [
    "#Scrape Reviews From Amazon"
   ]
  },
  {
   "cell_type": "code",
   "execution_count": 2,
   "id": "7be1e4bb-1a6f-478e-a0a5-f7cefb3f6b32",
   "metadata": {},
   "outputs": [],
   "source": [
    "import pandas as pd \n",
    "from selenium import webdriver\n",
    "from bs4 import BeautifulSoup"
   ]
  },
  {
   "cell_type": "code",
   "execution_count": 3,
   "id": "cb14ea44-e943-4427-afc5-a4a572a785cf",
   "metadata": {},
   "outputs": [],
   "source": [
    "driver = webdriver.Chrome()"
   ]
  },
  {
   "cell_type": "code",
   "execution_count": 4,
   "id": "ce80eeb2-0254-47ce-91c7-807339a552d7",
   "metadata": {},
   "outputs": [],
   "source": [
    "driver.get('https://www.amazon.in/Apple-iPhone-15-128-GB/product-reviews/B0CHX1W1XY/ref=cm_cr_getr_d_paging_btm_next_10?ie=UTF8&reviewerType=all_reviews')"
   ]
  },
  {
   "cell_type": "code",
   "execution_count": 5,
   "id": "25f1e773-11de-4942-a34f-8553fb65d97f",
   "metadata": {},
   "outputs": [],
   "source": [
    "html_data = BeautifulSoup(driver.page_source, 'html.parser')"
   ]
  },
  {
   "cell_type": "code",
   "execution_count": 6,
   "id": "49c727f0-c9dd-4984-8b77-32e68418aa8b",
   "metadata": {},
   "outputs": [],
   "source": [
    "import time \n"
   ]
  },
  {
   "cell_type": "code",
   "execution_count": 8,
   "id": "2276d1d5",
   "metadata": {},
   "outputs": [],
   "source": [
    "url = 'https://www.amazon.in/Apple-iPhone-15-128-GB/product-reviews/B0CHX1W1XY/ref=cm_cr_arp_d_paging_btm_next_2?ie=UTF8&reviewerType=all_reviews&pageNumber=1'\n"
   ]
  },
  {
   "cell_type": "code",
   "execution_count": 10,
   "id": "37ce3afc-5ecc-484f-98b3-be774fe08e78",
   "metadata": {},
   "outputs": [
    {
     "ename": "SyntaxError",
     "evalue": "invalid syntax (1450912936.py, line 30)",
     "output_type": "error",
     "traceback": [
      "\u001b[1;36m  Cell \u001b[1;32mIn[10], line 30\u001b[1;36m\u001b[0m\n\u001b[1;33m    elif:\u001b[0m\n\u001b[1;37m        ^\u001b[0m\n\u001b[1;31mSyntaxError\u001b[0m\u001b[1;31m:\u001b[0m invalid syntax\n"
     ]
    }
   ],
   "source": [
    "i = 0\n",
    "names = []\n",
    "ratings = []\n",
    "rating_dates = []\n",
    "titles = []\n",
    "reviews_text = []\n",
    "while url != None:\n",
    "    i = i + 1\n",
    "    url = 'https://www.amazon.in/Apple-iPhone-15-128-GB/product-reviews/B0CHX1W1XY/ref=cm_cr_arp_d_paging_btm_next_2?ie=UTF8&reviewerType=all_reviews&pageNumber='+str(i)\n",
    "    driver.get(url)\n",
    "    time.sleep(5)\n",
    "    html_data = BeautifulSoup(driver.page_source, 'html.parser')\n",
    "    reviews = html_data.find_all('div',{'data-hook':'review'})\n",
    "    for review in reviews:\n",
    "        name = review.find('span',{'class':'a-profile-name'}).text\n",
    "        names.append(name.strip())\n",
    "        rating = review.find('span',{'class':'a-icon-alt'}).text\n",
    "        ratings.append(rating)\n",
    "        rating_date = review.find('span',{'data-hook':'review-date'}).text\n",
    "        rating_dates.append(rating_date)\n",
    "        title = review.find('a',{'data-hook':'review-title'}).text\n",
    "        titles.append(title)\n",
    "        review_text = review.find('span',{'data-hook':'review-body'}).text\n",
    "        reviews_text.append(review_text)\n",
    "    url_check = html_data.find('li',{'class':'a-last'})\n",
    "    if url_check == None:\n",
    "       \n",
    "        url = None\n",
    "        \n",
    "    elif(url_check.a['href'] != '#'):\n",
    "        url = 'https://www.amazon.in' + html_data.find('li',{'class':'a-last'}).a['href']\n",
    "    else:\n",
    "        break\n",
    "    print(url)\n",
    "    "
   ]
  },
  {
   "cell_type": "code",
   "execution_count": 22,
   "id": "ff8640ff-4b1d-4c81-af41-110882b62851",
   "metadata": {},
   "outputs": [],
   "source": [
    "data = pd.DataFrame({'profile_name':names,\n",
    "                    'rating':ratings,\n",
    "                     'rating_date':rating_dates,\n",
    "                     'title':titles,\n",
    "                     'review_text':reviews_text\n",
    "                     })"
   ]
  },
  {
   "cell_type": "code",
   "execution_count": 25,
   "id": "91bce408-e7d3-47d4-9f18-b6f6b76d1bff",
   "metadata": {},
   "outputs": [
    {
     "data": {
      "text/plain": [
       "rating\n",
       "5.0 out of 5 stars    46\n",
       "1.0 out of 5 stars    25\n",
       "4.0 out of 5 stars    19\n",
       "3.0 out of 5 stars     6\n",
       "2.0 out of 5 stars     4\n",
       "Name: count, dtype: int64"
      ]
     },
     "execution_count": 25,
     "metadata": {},
     "output_type": "execute_result"
    }
   ],
   "source": [
    "data.rating.value_counts()"
   ]
  },
  {
   "cell_type": "code",
   "execution_count": 26,
   "id": "a6ad169f-d0d4-471d-b508-6ee6b6d3ee3d",
   "metadata": {},
   "outputs": [],
   "source": [
    "data.to_csv('Iphone 13 Amazon Reviews.csv')"
   ]
  },
  {
   "cell_type": "code",
   "execution_count": null,
   "id": "aca9cae2-5983-422f-9e7c-a252e1cce72c",
   "metadata": {},
   "outputs": [],
   "source": []
  }
 ],
 "metadata": {
  "kernelspec": {
   "display_name": "Python 3",
   "language": "python",
   "name": "python3"
  },
  "language_info": {
   "codemirror_mode": {
    "name": "ipython",
    "version": 3
   },
   "file_extension": ".py",
   "mimetype": "text/x-python",
   "name": "python",
   "nbconvert_exporter": "python",
   "pygments_lexer": "ipython3",
   "version": "3.12.5"
  }
 },
 "nbformat": 4,
 "nbformat_minor": 5
}
